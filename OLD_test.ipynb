{
 "cells": [
  {
   "cell_type": "code",
   "execution_count": 1,
   "metadata": {},
   "outputs": [],
   "source": [
    "import os\n",
    "\n",
    "os.environ[\"RANK\"] = \"0\"\n",
    "os.environ[\"WORLD_SIZE\"] = \"1\"\n",
    "os.environ[\"MASTER_ADDR\"] = '127.0.0.1'\n",
    "os.environ[\"MASTER_PORT\"] = '29500'"
   ]
  },
  {
   "cell_type": "code",
   "execution_count": 2,
   "metadata": {},
   "outputs": [],
   "source": [
    "import torch.distributed as dist"
   ]
  },
  {
   "cell_type": "code",
   "execution_count": 3,
   "metadata": {},
   "outputs": [],
   "source": [
    "dist.init_process_group(\"gloo\", rank=0, world_size=1)"
   ]
  },
  {
   "cell_type": "code",
   "execution_count": 4,
   "metadata": {},
   "outputs": [],
   "source": [
    "from megatron.core.datasets.blended_megatron_dataset_builder import BlendedMegatronDatasetBuilder\n",
    "from megatron.core.datasets.blended_megatron_dataset_config import GPTDatasetConfig\n",
    "from megatron.core.datasets.gpt_dataset import GPTDataset"
   ]
  },
  {
   "cell_type": "code",
   "execution_count": 5,
   "metadata": {},
   "outputs": [],
   "source": [
    "data_path = \"/mloscratch/homes/solergib/s-ai/nanotron/datasets/europarl-gpt_text_document\" \n",
    "split = \"949,50,1\"\n",
    "gpt_config = GPTDatasetConfig(\n",
    "        random_seed=1234,\n",
    "        sequence_length=1024,\n",
    "        data_path=data_path,\n",
    "        split=split,\n",
    "    )"
   ]
  },
  {
   "cell_type": "code",
   "execution_count": 6,
   "metadata": {},
   "outputs": [],
   "source": [
    "train_val_test_num_samples = [4000000, 80080, 80]"
   ]
  },
  {
   "cell_type": "code",
   "execution_count": 7,
   "metadata": {},
   "outputs": [
    {
     "name": "stdout",
     "output_type": "stream",
     "text": [
      "20 Load the _IndexReader from /mloscratch/homes/solergib/s-ai/nanotron/datasets/europarl-gpt_text_document.idx\n",
      "\n",
      "20 \tExtract the sequence lengths\n",
      "\n",
      "10 \t> time elapsed: 0.000009 seconds\n",
      "\n",
      "20 \tExtract the sequence pointers\n",
      "\n",
      "10 \t> time elapsed: 0.000006 seconds\n",
      "\n",
      "20 \tExtract the document indices\n",
      "\n",
      "10 \t> time elapsed: 0.000005 seconds\n",
      "\n",
      "20 > total number of sequences: 630823\n",
      "\n",
      "20 > total number of documents: 602605\n",
      "\n",
      "20 Build and save the GPTDataset train indices\n",
      "\n",
      "10 > num_samples_from_final_epoch: 9816\n",
      "\n",
      "10 > threshold: 0.8\n",
      "\n",
      "10 > num_samples_per_epoch: 16286\n",
      "\n",
      "10 > separate_final_epoch: True\n",
      "\n",
      "20 \tBuild and save the document index to 84b6c5d697dd97de55cb072d320b24d3-GPTDataset-document_index.npy\n",
      "\n",
      "246\n",
      "PEPEPEPEPEPEPEPE\n"
     ]
    }
   ],
   "source": [
    "train_ds, valid_ds, test_ds = BlendedMegatronDatasetBuilder(GPTDataset, train_val_test_num_samples, gpt_config).build()"
   ]
  },
  {
   "cell_type": "code",
   "execution_count": 4,
   "metadata": {},
   "outputs": [],
   "source": [
    "pepe = BlendedMegatronDatasetBuilder(GPTDataset, train_val_test_num_samples, gpt_config)"
   ]
  },
  {
   "cell_type": "code",
   "execution_count": 5,
   "metadata": {},
   "outputs": [
    {
     "data": {
      "text/plain": [
       "<megatron.core.datasets.blended_megatron_dataset_builder.BlendedMegatronDatasetBuilder at 0x7f81d76a89a0>"
      ]
     },
     "execution_count": 5,
     "metadata": {},
     "output_type": "execute_result"
    }
   ],
   "source": [
    "pepe"
   ]
  },
  {
   "cell_type": "code",
   "execution_count": 6,
   "metadata": {},
   "outputs": [
    {
     "name": "stdout",
     "output_type": "stream",
     "text": [
      "hola\n",
      "pepe\n"
     ]
    },
    {
     "ename": "TypeError",
     "evalue": "cannot unpack non-iterable NoneType object",
     "output_type": "error",
     "traceback": [
      "\u001b[0;31m---------------------------------------------------------------------------\u001b[0m",
      "\u001b[0;31mTypeError\u001b[0m                                 Traceback (most recent call last)",
      "Cell \u001b[0;32mIn[6], line 1\u001b[0m\n\u001b[0;32m----> 1\u001b[0m a, b, c, \u001b[38;5;241m=\u001b[39m pepe\u001b[38;5;241m.\u001b[39mbuild()\n",
      "\u001b[0;31mTypeError\u001b[0m: cannot unpack non-iterable NoneType object"
     ]
    }
   ],
   "source": [
    "a, b, c, = pepe.build()"
   ]
  },
  {
   "cell_type": "code",
   "execution_count": null,
   "metadata": {},
   "outputs": [],
   "source": []
  }
 ],
 "metadata": {
  "kernelspec": {
   "display_name": "Python 3",
   "language": "python",
   "name": "python3"
  },
  "language_info": {
   "codemirror_mode": {
    "name": "ipython",
    "version": 3
   },
   "file_extension": ".py",
   "mimetype": "text/x-python",
   "name": "python",
   "nbconvert_exporter": "python",
   "pygments_lexer": "ipython3",
   "version": "3.10.12"
  }
 },
 "nbformat": 4,
 "nbformat_minor": 2
}
